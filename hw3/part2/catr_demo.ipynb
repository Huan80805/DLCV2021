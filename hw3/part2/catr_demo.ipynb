{
  "nbformat": 4,
  "nbformat_minor": 0,
  "metadata": {
    "colab": {
      "name": "catr-demo.ipynb",
      "provenance": [],
      "mount_file_id": "1LVtj77AoMmhJmTDCsXmcQjqxUFb7YEJ2",
      "authorship_tag": "ABX9TyNQVSIJZ6Hoj2qvhWWnmSyV",
      "include_colab_link": true
    },
    "kernelspec": {
      "name": "python3",
      "display_name": "Python 3"
    },
    "accelerator": "GPU"
  },
  "cells": [
    {
      "cell_type": "markdown",
      "metadata": {
        "id": "view-in-github",
        "colab_type": "text"
      },
      "source": [
        "<a href=\"https://colab.research.google.com/github/saahiluppal/catr/blob/master/catr_demo.ipynb\" target=\"_parent\"><img src=\"https://colab.research.google.com/assets/colab-badge.svg\" alt=\"Open In Colab\"/></a>"
      ]
    },
    {
      "cell_type": "code",
      "metadata": {
        "id": "N8xyiUNoWmL3",
        "colab_type": "code",
        "colab": {
          "base_uri": "https://localhost:8080/",
          "height": 121
        },
        "outputId": "6c54de9e-339e-47a6-ff49-50dfe361d627"
      },
      "source": [
        "!git clone https://github.com/saahiluppal/catr.git"
      ],
      "execution_count": 2,
      "outputs": [
        {
          "output_type": "stream",
          "text": [
            "Cloning into 'catr'...\n",
            "remote: Enumerating objects: 79, done.\u001b[K\n",
            "remote: Counting objects:   1% (1/79)\u001b[K\rremote: Counting objects:   2% (2/79)\u001b[K\rremote: Counting objects:   3% (3/79)\u001b[K\rremote: Counting objects:   5% (4/79)\u001b[K\rremote: Counting objects:   6% (5/79)\u001b[K\rremote: Counting objects:   7% (6/79)\u001b[K\rremote: Counting objects:   8% (7/79)\u001b[K\rremote: Counting objects:  10% (8/79)\u001b[K\rremote: Counting objects:  11% (9/79)\u001b[K\rremote: Counting objects:  12% (10/79)\u001b[K\rremote: Counting objects:  13% (11/79)\u001b[K\rremote: Counting objects:  15% (12/79)\u001b[K\rremote: Counting objects:  16% (13/79)\u001b[K\rremote: Counting objects:  17% (14/79)\u001b[K\rremote: Counting objects:  18% (15/79)\u001b[K\rremote: Counting objects:  20% (16/79)\u001b[K\rremote: Counting objects:  21% (17/79)\u001b[K\rremote: Counting objects:  22% (18/79)\u001b[K\rremote: Counting objects:  24% (19/79)\u001b[K\rremote: Counting objects:  25% (20/79)\u001b[K\rremote: Counting objects:  26% (21/79)\u001b[K\rremote: Counting objects:  27% (22/79)\u001b[K\rremote: Counting objects:  29% (23/79)\u001b[K\rremote: Counting objects:  30% (24/79)\u001b[K\rremote: Counting objects:  31% (25/79)\u001b[K\rremote: Counting objects:  32% (26/79)\u001b[K\rremote: Counting objects:  34% (27/79)\u001b[K\rremote: Counting objects:  35% (28/79)\u001b[K\rremote: Counting objects:  36% (29/79)\u001b[K\rremote: Counting objects:  37% (30/79)\u001b[K\rremote: Counting objects:  39% (31/79)\u001b[K\rremote: Counting objects:  40% (32/79)\u001b[K\rremote: Counting objects:  41% (33/79)\u001b[K\rremote: Counting objects:  43% (34/79)\u001b[K\rremote: Counting objects:  44% (35/79)\u001b[K\rremote: Counting objects:  45% (36/79)\u001b[K\rremote: Counting objects:  46% (37/79)\u001b[K\rremote: Counting objects:  48% (38/79)\u001b[K\rremote: Counting objects:  49% (39/79)\u001b[K\rremote: Counting objects:  50% (40/79)\u001b[K\rremote: Counting objects:  51% (41/79)\u001b[K\rremote: Counting objects:  53% (42/79)\u001b[K\rremote: Counting objects:  54% (43/79)\u001b[K\rremote: Counting objects:  55% (44/79)\u001b[K\rremote: Counting objects:  56% (45/79)\u001b[K\rremote: Counting objects:  58% (46/79)\u001b[K\rremote: Counting objects:  59% (47/79)\u001b[K\rremote: Counting objects:  60% (48/79)\u001b[K\rremote: Counting objects:  62% (49/79)\u001b[K\rremote: Counting objects:  63% (50/79)\u001b[K\rremote: Counting objects:  64% (51/79)\u001b[K\rremote: Counting objects:  65% (52/79)\u001b[K\rremote: Counting objects:  67% (53/79)\u001b[K\rremote: Counting objects:  68% (54/79)\u001b[K\rremote: Counting objects:  69% (55/79)\u001b[K\rremote: Counting objects:  70% (56/79)\u001b[K\rremote: Counting objects:  72% (57/79)\u001b[K\rremote: Counting objects:  73% (58/79)\u001b[K\rremote: Counting objects:  74% (59/79)\u001b[K\rremote: Counting objects:  75% (60/79)\u001b[K\rremote: Counting objects:  77% (61/79)\u001b[K\rremote: Counting objects:  78% (62/79)\u001b[K\rremote: Counting objects:  79% (63/79)\u001b[K\rremote: Counting objects:  81% (64/79)\u001b[K\rremote: Counting objects:  82% (65/79)\u001b[K\rremote: Counting objects:  83% (66/79)\u001b[K\rremote: Counting objects:  84% (67/79)\u001b[K\rremote: Counting objects:  86% (68/79)\u001b[K\rremote: Counting objects:  87% (69/79)\u001b[K\rremote: Counting objects:  88% (70/79)\u001b[K\rremote: Counting objects:  89% (71/79)\u001b[K\rremote: Counting objects:  91% (72/79)\u001b[K\rremote: Counting objects:  92% (73/79)\u001b[K\rremote: Counting objects:  93% (74/79)\u001b[K\rremote: Counting objects:  94% (75/79)\u001b[K\rremote: Counting objects:  96% (76/79)\u001b[K\rremote: Counting objects:  97% (77/79)\u001b[K\rremote: Counting objects:  98% (78/79)\u001b[K\rremote: Counting objects: 100% (79/79)\u001b[K\rremote: Counting objects: 100% (79/79), done.\u001b[K\n",
            "remote: Compressing objects: 100% (58/58), done.\u001b[K\n",
            "remote: Total 79 (delta 29), reused 57 (delta 18), pack-reused 0\u001b[K\n",
            "Unpacking objects: 100% (79/79), done.\n"
          ],
          "name": "stdout"
        }
      ]
    },
    {
      "cell_type": "code",
      "metadata": {
        "id": "JMzOLu6Tjhqz",
        "colab_type": "code",
        "colab": {
          "base_uri": "https://localhost:8080/",
          "height": 34
        },
        "outputId": "f2df8dc5-3bce-42c2-f03e-81bf10a0a8ab"
      },
      "source": [
        "%cd catr/"
      ],
      "execution_count": 4,
      "outputs": [
        {
          "output_type": "stream",
          "text": [
            "/content/catr\n"
          ],
          "name": "stdout"
        }
      ]
    },
    {
      "cell_type": "code",
      "metadata": {
        "id": "ojT0Ln7GjayV",
        "colab_type": "code",
        "colab": {
          "base_uri": "https://localhost:8080/",
          "height": 697
        },
        "outputId": "618844dd-0459-4d3d-b71b-d5ed11ec8bad"
      },
      "source": [
        "!pip install -r requirements.txt"
      ],
      "execution_count": 5,
      "outputs": [
        {
          "output_type": "stream",
          "text": [
            "Requirement already satisfied: torch in /usr/local/lib/python3.6/dist-packages (from -r requirements.txt (line 1)) (1.5.1+cu101)\n",
            "Requirement already satisfied: torchvision in /usr/local/lib/python3.6/dist-packages (from -r requirements.txt (line 2)) (0.6.1+cu101)\n",
            "Requirement already satisfied: numpy in /usr/local/lib/python3.6/dist-packages (from -r requirements.txt (line 3)) (1.18.5)\n",
            "Collecting transformers\n",
            "\u001b[?25l  Downloading https://files.pythonhosted.org/packages/27/3c/91ed8f5c4e7ef3227b4119200fc0ed4b4fd965b1f0172021c25701087825/transformers-3.0.2-py3-none-any.whl (769kB)\n",
            "\r\u001b[K     |▍                               | 10kB 24.9MB/s eta 0:00:01\r\u001b[K     |▉                               | 20kB 3.3MB/s eta 0:00:01\r\u001b[K     |█▎                              | 30kB 4.4MB/s eta 0:00:01\r\u001b[K     |█▊                              | 40kB 4.6MB/s eta 0:00:01\r\u001b[K     |██▏                             | 51kB 3.8MB/s eta 0:00:01\r\u001b[K     |██▋                             | 61kB 4.3MB/s eta 0:00:01\r\u001b[K     |███                             | 71kB 4.7MB/s eta 0:00:01\r\u001b[K     |███▍                            | 81kB 4.9MB/s eta 0:00:01\r\u001b[K     |███▉                            | 92kB 5.3MB/s eta 0:00:01\r\u001b[K     |████▎                           | 102kB 5.3MB/s eta 0:00:01\r\u001b[K     |████▊                           | 112kB 5.3MB/s eta 0:00:01\r\u001b[K     |█████▏                          | 122kB 5.3MB/s eta 0:00:01\r\u001b[K     |█████▌                          | 133kB 5.3MB/s eta 0:00:01\r\u001b[K     |██████                          | 143kB 5.3MB/s eta 0:00:01\r\u001b[K     |██████▍                         | 153kB 5.3MB/s eta 0:00:01\r\u001b[K     |██████▉                         | 163kB 5.3MB/s eta 0:00:01\r\u001b[K     |███████▎                        | 174kB 5.3MB/s eta 0:00:01\r\u001b[K     |███████▊                        | 184kB 5.3MB/s eta 0:00:01\r\u001b[K     |████████                        | 194kB 5.3MB/s eta 0:00:01\r\u001b[K     |████████▌                       | 204kB 5.3MB/s eta 0:00:01\r\u001b[K     |█████████                       | 215kB 5.3MB/s eta 0:00:01\r\u001b[K     |█████████▍                      | 225kB 5.3MB/s eta 0:00:01\r\u001b[K     |█████████▉                      | 235kB 5.3MB/s eta 0:00:01\r\u001b[K     |██████████▎                     | 245kB 5.3MB/s eta 0:00:01\r\u001b[K     |██████████▋                     | 256kB 5.3MB/s eta 0:00:01\r\u001b[K     |███████████                     | 266kB 5.3MB/s eta 0:00:01\r\u001b[K     |███████████▌                    | 276kB 5.3MB/s eta 0:00:01\r\u001b[K     |████████████                    | 286kB 5.3MB/s eta 0:00:01\r\u001b[K     |████████████▍                   | 296kB 5.3MB/s eta 0:00:01\r\u001b[K     |████████████▉                   | 307kB 5.3MB/s eta 0:00:01\r\u001b[K     |█████████████▏                  | 317kB 5.3MB/s eta 0:00:01\r\u001b[K     |█████████████▋                  | 327kB 5.3MB/s eta 0:00:01\r\u001b[K     |██████████████                  | 337kB 5.3MB/s eta 0:00:01\r\u001b[K     |██████████████▌                 | 348kB 5.3MB/s eta 0:00:01\r\u001b[K     |███████████████                 | 358kB 5.3MB/s eta 0:00:01\r\u001b[K     |███████████████▍                | 368kB 5.3MB/s eta 0:00:01\r\u001b[K     |███████████████▊                | 378kB 5.3MB/s eta 0:00:01\r\u001b[K     |████████████████▏               | 389kB 5.3MB/s eta 0:00:01\r\u001b[K     |████████████████▋               | 399kB 5.3MB/s eta 0:00:01\r\u001b[K     |█████████████████               | 409kB 5.3MB/s eta 0:00:01\r\u001b[K     |█████████████████▌              | 419kB 5.3MB/s eta 0:00:01\r\u001b[K     |██████████████████              | 430kB 5.3MB/s eta 0:00:01\r\u001b[K     |██████████████████▎             | 440kB 5.3MB/s eta 0:00:01\r\u001b[K     |██████████████████▊             | 450kB 5.3MB/s eta 0:00:01\r\u001b[K     |███████████████████▏            | 460kB 5.3MB/s eta 0:00:01\r\u001b[K     |███████████████████▋            | 471kB 5.3MB/s eta 0:00:01\r\u001b[K     |████████████████████            | 481kB 5.3MB/s eta 0:00:01\r\u001b[K     |████████████████████▌           | 491kB 5.3MB/s eta 0:00:01\r\u001b[K     |████████████████████▉           | 501kB 5.3MB/s eta 0:00:01\r\u001b[K     |█████████████████████▎          | 512kB 5.3MB/s eta 0:00:01\r\u001b[K     |█████████████████████▊          | 522kB 5.3MB/s eta 0:00:01\r\u001b[K     |██████████████████████▏         | 532kB 5.3MB/s eta 0:00:01\r\u001b[K     |██████████████████████▋         | 542kB 5.3MB/s eta 0:00:01\r\u001b[K     |███████████████████████         | 552kB 5.3MB/s eta 0:00:01\r\u001b[K     |███████████████████████▍        | 563kB 5.3MB/s eta 0:00:01\r\u001b[K     |███████████████████████▉        | 573kB 5.3MB/s eta 0:00:01\r\u001b[K     |████████████████████████▎       | 583kB 5.3MB/s eta 0:00:01\r\u001b[K     |████████████████████████▊       | 593kB 5.3MB/s eta 0:00:01\r\u001b[K     |█████████████████████████▏      | 604kB 5.3MB/s eta 0:00:01\r\u001b[K     |█████████████████████████▋      | 614kB 5.3MB/s eta 0:00:01\r\u001b[K     |██████████████████████████      | 624kB 5.3MB/s eta 0:00:01\r\u001b[K     |██████████████████████████▍     | 634kB 5.3MB/s eta 0:00:01\r\u001b[K     |██████████████████████████▉     | 645kB 5.3MB/s eta 0:00:01\r\u001b[K     |███████████████████████████▎    | 655kB 5.3MB/s eta 0:00:01\r\u001b[K     |███████████████████████████▊    | 665kB 5.3MB/s eta 0:00:01\r\u001b[K     |████████████████████████████▏   | 675kB 5.3MB/s eta 0:00:01\r\u001b[K     |████████████████████████████▌   | 686kB 5.3MB/s eta 0:00:01\r\u001b[K     |█████████████████████████████   | 696kB 5.3MB/s eta 0:00:01\r\u001b[K     |█████████████████████████████▍  | 706kB 5.3MB/s eta 0:00:01\r\u001b[K     |█████████████████████████████▉  | 716kB 5.3MB/s eta 0:00:01\r\u001b[K     |██████████████████████████████▎ | 727kB 5.3MB/s eta 0:00:01\r\u001b[K     |██████████████████████████████▊ | 737kB 5.3MB/s eta 0:00:01\r\u001b[K     |███████████████████████████████ | 747kB 5.3MB/s eta 0:00:01\r\u001b[K     |███████████████████████████████▌| 757kB 5.3MB/s eta 0:00:01\r\u001b[K     |████████████████████████████████| 768kB 5.3MB/s eta 0:00:01\r\u001b[K     |████████████████████████████████| 778kB 5.3MB/s \n",
            "\u001b[?25hRequirement already satisfied: tqdm in /usr/local/lib/python3.6/dist-packages (from -r requirements.txt (line 5)) (4.41.1)\n",
            "Requirement already satisfied: future in /usr/local/lib/python3.6/dist-packages (from torch->-r requirements.txt (line 1)) (0.16.0)\n",
            "Requirement already satisfied: pillow>=4.1.1 in /usr/local/lib/python3.6/dist-packages (from torchvision->-r requirements.txt (line 2)) (7.0.0)\n",
            "Collecting tokenizers==0.8.1.rc1\n",
            "\u001b[?25l  Downloading https://files.pythonhosted.org/packages/40/d0/30d5f8d221a0ed981a186c8eb986ce1c94e3a6e87f994eae9f4aa5250217/tokenizers-0.8.1rc1-cp36-cp36m-manylinux1_x86_64.whl (3.0MB)\n",
            "\u001b[K     |████████████████████████████████| 3.0MB 24.6MB/s \n",
            "\u001b[?25hRequirement already satisfied: dataclasses; python_version < \"3.7\" in /usr/local/lib/python3.6/dist-packages (from transformers->-r requirements.txt (line 4)) (0.7)\n",
            "Requirement already satisfied: requests in /usr/local/lib/python3.6/dist-packages (from transformers->-r requirements.txt (line 4)) (2.23.0)\n",
            "Collecting sacremoses\n",
            "\u001b[?25l  Downloading https://files.pythonhosted.org/packages/7d/34/09d19aff26edcc8eb2a01bed8e98f13a1537005d31e95233fd48216eed10/sacremoses-0.0.43.tar.gz (883kB)\n",
            "\u001b[K     |████████████████████████████████| 890kB 31.3MB/s \n",
            "\u001b[?25hCollecting sentencepiece!=0.1.92\n",
            "\u001b[?25l  Downloading https://files.pythonhosted.org/packages/d4/a4/d0a884c4300004a78cca907a6ff9a5e9fe4f090f5d95ab341c53d28cbc58/sentencepiece-0.1.91-cp36-cp36m-manylinux1_x86_64.whl (1.1MB)\n",
            "\u001b[K     |████████████████████████████████| 1.1MB 49.5MB/s \n",
            "\u001b[?25hRequirement already satisfied: packaging in /usr/local/lib/python3.6/dist-packages (from transformers->-r requirements.txt (line 4)) (20.4)\n",
            "Requirement already satisfied: regex!=2019.12.17 in /usr/local/lib/python3.6/dist-packages (from transformers->-r requirements.txt (line 4)) (2019.12.20)\n",
            "Requirement already satisfied: filelock in /usr/local/lib/python3.6/dist-packages (from transformers->-r requirements.txt (line 4)) (3.0.12)\n",
            "Requirement already satisfied: idna<3,>=2.5 in /usr/local/lib/python3.6/dist-packages (from requests->transformers->-r requirements.txt (line 4)) (2.10)\n",
            "Requirement already satisfied: urllib3!=1.25.0,!=1.25.1,<1.26,>=1.21.1 in /usr/local/lib/python3.6/dist-packages (from requests->transformers->-r requirements.txt (line 4)) (1.24.3)\n",
            "Requirement already satisfied: certifi>=2017.4.17 in /usr/local/lib/python3.6/dist-packages (from requests->transformers->-r requirements.txt (line 4)) (2020.6.20)\n",
            "Requirement already satisfied: chardet<4,>=3.0.2 in /usr/local/lib/python3.6/dist-packages (from requests->transformers->-r requirements.txt (line 4)) (3.0.4)\n",
            "Requirement already satisfied: six in /usr/local/lib/python3.6/dist-packages (from sacremoses->transformers->-r requirements.txt (line 4)) (1.15.0)\n",
            "Requirement already satisfied: click in /usr/local/lib/python3.6/dist-packages (from sacremoses->transformers->-r requirements.txt (line 4)) (7.1.2)\n",
            "Requirement already satisfied: joblib in /usr/local/lib/python3.6/dist-packages (from sacremoses->transformers->-r requirements.txt (line 4)) (0.16.0)\n",
            "Requirement already satisfied: pyparsing>=2.0.2 in /usr/local/lib/python3.6/dist-packages (from packaging->transformers->-r requirements.txt (line 4)) (2.4.7)\n",
            "Building wheels for collected packages: sacremoses\n",
            "  Building wheel for sacremoses (setup.py) ... \u001b[?25l\u001b[?25hdone\n",
            "  Created wheel for sacremoses: filename=sacremoses-0.0.43-cp36-none-any.whl size=893260 sha256=54b093ea3f7db7b5b98464934131d04f8580c06b274673e0cdf946240bc124f0\n",
            "  Stored in directory: /root/.cache/pip/wheels/29/3c/fd/7ce5c3f0666dab31a50123635e6fb5e19ceb42ce38d4e58f45\n",
            "Successfully built sacremoses\n",
            "Installing collected packages: tokenizers, sacremoses, sentencepiece, transformers\n",
            "Successfully installed sacremoses-0.0.43 sentencepiece-0.1.91 tokenizers-0.8.1rc1 transformers-3.0.2\n"
          ],
          "name": "stdout"
        }
      ]
    },
    {
      "cell_type": "code",
      "metadata": {
        "id": "KesOqe40jdak",
        "colab_type": "code",
        "colab": {
          "base_uri": "https://localhost:8080/",
          "height": 176
        },
        "outputId": "54e430ea-f037-4541-d0d4-ac71ee457ee3"
      },
      "source": [
        "!python predict.py --path .github/cake.png"
      ],
      "execution_count": 6,
      "outputs": [
        {
          "output_type": "stream",
          "text": [
            "2020-07-30 11:50:09.260991: I tensorflow/stream_executor/platform/default/dso_loader.cc:44] Successfully opened dynamic library libcudart.so.10.1\n",
            "Downloading: \"https://github.com/saahiluppal/catr/archive/master.zip\" to /root/.cache/torch/hub/master.zip\n",
            "Downloading: \"https://download.pytorch.org/models/resnet101-5d3b4d8f.pth\" to /root/.cache/torch/hub/checkpoints/resnet101-5d3b4d8f.pth\n",
            "100% 170M/170M [00:00<00:00, 227MB/s]\n",
            "Downloading: \"https://github.com/saahiluppal/catr/releases/download/0.1/weights_9348032.pth\" to /root/.cache/torch/hub/checkpoints/weights_9348032.pth\n",
            "100% 322M/322M [00:07<00:00, 45.0MB/s]\n",
            "Downloading: 100% 232k/232k [00:00<00:00, 916kB/s]\n",
            "A person cutting a cake with a knife.\n"
          ],
          "name": "stdout"
        }
      ]
    },
    {
      "cell_type": "code",
      "metadata": {
        "id": "8VAr2dFajs69",
        "colab_type": "code",
        "colab": {
          "base_uri": "https://localhost:8080/",
          "height": 89
        },
        "outputId": "7c985740-9d46-43a9-bcaf-822a6952b268"
      },
      "source": [
        "!python predict.py --path .github/girl.png"
      ],
      "execution_count": 7,
      "outputs": [
        {
          "output_type": "stream",
          "text": [
            "2020-07-30 11:50:48.364873: I tensorflow/stream_executor/platform/default/dso_loader.cc:44] Successfully opened dynamic library libcudart.so.10.1\n",
            "Using cache found in /root/.cache/torch/hub/saahiluppal_catr_master\n",
            "A woman sitting on a curb holding a pink umbrella.\n"
          ],
          "name": "stdout"
        }
      ]
    },
    {
      "cell_type": "code",
      "metadata": {
        "id": "_evy1rElj3JK",
        "colab_type": "code",
        "colab": {
          "base_uri": "https://localhost:8080/",
          "height": 89
        },
        "outputId": "37eeaf43-3d7c-41db-bb59-287bd7632da9"
      },
      "source": [
        "!python predict.py --path .github/office.png"
      ],
      "execution_count": 8,
      "outputs": [
        {
          "output_type": "stream",
          "text": [
            "2020-07-30 11:51:07.946459: I tensorflow/stream_executor/platform/default/dso_loader.cc:44] Successfully opened dynamic library libcudart.so.10.1\n",
            "Using cache found in /root/.cache/torch/hub/saahiluppal_catr_master\n",
            "A group of people sitting at a table with laptops.\n"
          ],
          "name": "stdout"
        }
      ]
    },
    {
      "cell_type": "code",
      "metadata": {
        "id": "5uqoo0NCj6h-",
        "colab_type": "code",
        "colab": {
          "base_uri": "https://localhost:8080/",
          "height": 89
        },
        "outputId": "89df63ee-77e6-4acc-e9c3-9e6e05a9f517"
      },
      "source": [
        "!python predict.py --path .github/horse.png"
      ],
      "execution_count": 9,
      "outputs": [
        {
          "output_type": "stream",
          "text": [
            "2020-07-30 11:51:26.572680: I tensorflow/stream_executor/platform/default/dso_loader.cc:44] Successfully opened dynamic library libcudart.so.10.1\n",
            "Using cache found in /root/.cache/torch/hub/saahiluppal_catr_master\n",
            "A man riding on the back of a brown horse.\n"
          ],
          "name": "stdout"
        }
      ]
    },
    {
      "cell_type": "code",
      "metadata": {
        "id": "CCnUN_H4j7x9",
        "colab_type": "code",
        "colab": {
          "base_uri": "https://localhost:8080/",
          "height": 89
        },
        "outputId": "c095a09c-eebd-41ce-b7a2-df9af8100dc0"
      },
      "source": [
        "!python predict.py --path .github/airplane.png"
      ],
      "execution_count": 10,
      "outputs": [
        {
          "output_type": "stream",
          "text": [
            "2020-07-30 11:51:44.833782: I tensorflow/stream_executor/platform/default/dso_loader.cc:44] Successfully opened dynamic library libcudart.so.10.1\n",
            "Using cache found in /root/.cache/torch/hub/saahiluppal_catr_master\n",
            "A large jetliner sitting on top of an airport runway.\n"
          ],
          "name": "stdout"
        }
      ]
    },
    {
      "cell_type": "code",
      "metadata": {
        "id": "x8YuZRMokBqT",
        "colab_type": "code",
        "colab": {}
      },
      "source": [
        ""
      ],
      "execution_count": null,
      "outputs": []
    }
  ]
}